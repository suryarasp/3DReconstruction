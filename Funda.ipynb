{
  "nbformat": 4,
  "nbformat_minor": 0,
  "metadata": {
    "colab": {
      "provenance": [],
      "collapsed_sections": [],
      "authorship_tag": "ABX9TyPEW/7S8rKEs1sFB2E8uUyB",
      "include_colab_link": true
    },
    "kernelspec": {
      "name": "python3",
      "display_name": "Python 3"
    },
    "language_info": {
      "name": "python"
    }
  },
  "cells": [
    {
      "cell_type": "markdown",
      "metadata": {
        "id": "view-in-github",
        "colab_type": "text"
      },
      "source": [
        "<a href=\"https://colab.research.google.com/github/suryarasp/3DReconstruction/blob/master/Funda.ipynb\" target=\"_parent\"><img src=\"https://colab.research.google.com/assets/colab-badge.svg\" alt=\"Open In Colab\"/></a>"
      ]
    },
    {
      "cell_type": "markdown",
      "source": [
        "Type hint https://docs.python.org/3/library/typing.html"
      ],
      "metadata": {
        "id": "t3MQPllOFv9A"
      }
    },
    {
      "cell_type": "code",
      "source": [
        "def say_hi(name: str) -> str:\n",
        "    return f'Hi {name}'\n",
        "\n",
        "\n",
        "greeting = say_hi('John')\n",
        "print (f\"greeting {greeting}\")"
      ],
      "metadata": {
        "colab": {
          "base_uri": "https://localhost:8080/"
        },
        "id": "6Cnl2WoA517V",
        "outputId": "2c1f5dfe-27c5-4333-b8e8-ac5c523b1ef7"
      },
      "execution_count": 4,
      "outputs": [
        {
          "output_type": "stream",
          "name": "stdout",
          "text": [
            "greeting Hi John\n"
          ]
        }
      ]
    },
    {
      "cell_type": "code",
      "source": [
        "def fub(x:int):\n",
        "  print(x)\n",
        "fub(5)"
      ],
      "metadata": {
        "colab": {
          "base_uri": "https://localhost:8080/"
        },
        "id": "p9BsHNuf6lAo",
        "outputId": "e70fe19d-0deb-48c2-9f2b-867a13f40629"
      },
      "execution_count": 5,
      "outputs": [
        {
          "output_type": "stream",
          "name": "stdout",
          "text": [
            "5\n"
          ]
        }
      ]
    },
    {
      "cell_type": "code",
      "source": [
        "a:list =[1,2,3]\n",
        "b:list=[4,5,6]\n",
        "l:zip=zip(a,b)\n",
        "print(\"type\",type(l))\n",
        "print([2*x+2*y for x,y in l])\n",
        "print(list(zip(a,b)))"
      ],
      "metadata": {
        "colab": {
          "base_uri": "https://localhost:8080/"
        },
        "id": "GC4I7zgM7GGq",
        "outputId": "9202c32c-d968-473b-d49c-84560b8858f0"
      },
      "execution_count": 6,
      "outputs": [
        {
          "output_type": "stream",
          "name": "stdout",
          "text": [
            "type <class 'zip'>\n",
            "[10, 14, 18]\n",
            "[(1, 4), (2, 5), (3, 6)]\n"
          ]
        }
      ]
    },
    {
      "cell_type": "markdown",
      "source": [
        "https://www.delftstack.com/howto/python/python-for-loop-multiple-variables/"
      ],
      "metadata": {
        "id": "Rr5p5VNoAMHP"
      }
    },
    {
      "cell_type": "code",
      "source": [
        "#getting simulteneously index and value\n",
        "coins = [\"Bitcoin\", \"Ethereum\", \"Cardano\"]\n",
        "prices = [48000,2585,2]\n",
        "for i, coin in enumerate(coins):\n",
        "    price = prices[i]\n",
        "    print(f\"${price} for 1 {coin}\")"
      ],
      "metadata": {
        "colab": {
          "base_uri": "https://localhost:8080/"
        },
        "id": "CcrJS3IO_cTY",
        "outputId": "c82804a5-c2d0-4bc8-b53c-7511ab0d8b19"
      },
      "execution_count": null,
      "outputs": [
        {
          "output_type": "stream",
          "name": "stdout",
          "text": [
            "$48000 for 1 Bitcoin\n",
            "$2585 for 1 Ethereum\n",
            "$2 for 1 Cardano\n"
          ]
        }
      ]
    },
    {
      "cell_type": "markdown",
      "source": [
        "https://www.w3schools.com/python/python_lambda.asp\n",
        "\n",
        "fuynctonName=lambda arguments : expression"
      ],
      "metadata": {
        "id": "ctjNiYqBDiBM"
      }
    },
    {
      "cell_type": "code",
      "source": [
        "x = lambda a, b, c : a + b + c\n",
        "print(x(5, 6, 2))\n",
        "# Double all numbers using map and lambda\n",
        "  \n",
        "numbers = (1, 2, 3, 4)\n"
      ],
      "metadata": {
        "colab": {
          "base_uri": "https://localhost:8080/"
        },
        "id": "WNSW5pppDpTL",
        "outputId": "289dd835-0068-45ba-8a1f-3f59ec391998"
      },
      "execution_count": null,
      "outputs": [
        {
          "output_type": "stream",
          "name": "stdout",
          "text": [
            "13\n"
          ]
        }
      ]
    },
    {
      "cell_type": "markdown",
      "source": [
        "https://www.geeksforgeeks.org/python-convert-list-of-tuples-to-list-of-list/\n",
        "\n"
      ],
      "metadata": {
        "id": "Dvvk5gXPFEk0"
      }
    },
    {
      "cell_type": "code",
      "source": [
        "# Python3 code to demonstrate\n",
        "# convert list of tuples to list of list\n",
        "# using map() + list\n",
        "\n",
        "# initializing list\n",
        "test_list = [(1, 2), (3, 4), (5, 6)]\n",
        "\n",
        "# printing original list\n",
        "print(f\"The original list of tuples :{test_list} \" )\n",
        "\n",
        "# using map() + list\n",
        "# convert list of tuples to list of list\n",
        "res = list(map(list, test_list))\n",
        "\n",
        "# print result\n",
        "print(\"The converted list of list : \" + str(res))\n",
        "\n"
      ],
      "metadata": {
        "colab": {
          "base_uri": "https://localhost:8080/"
        },
        "id": "yII2wfQqFMb4",
        "outputId": "e3522d90-3374-4e99-b8c6-f100ce67683e"
      },
      "execution_count": 10,
      "outputs": [
        {
          "output_type": "stream",
          "name": "stdout",
          "text": [
            "The original list of tuples :[(1, 2), (3, 4), (5, 6)] \n",
            "The converted list of list : [[1, 2], [3, 4], [5, 6]]\n"
          ]
        }
      ]
    },
    {
      "cell_type": "markdown",
      "source": [
        "Python map() function\n",
        "https://www.geeksforgeeks.org/python-map-function/\n",
        "\n",
        "map() function returns a map object(which is an iterator) of the results after applying the given function to each item of a given iterable (list, tuple etc.)\n",
        "\n",
        "Syntax :\n",
        "\n",
        "map(fun, iter)\n",
        "Parameters :\n",
        "\n",
        "fun : It is a function to which map passes each element of given iterable.\n",
        "iter : It is a iterable which is to be mapped."
      ],
      "metadata": {
        "id": "qFQwVLBZNxW-"
      }
    },
    {
      "cell_type": "code",
      "source": [
        "# Python program to demonstrate working\n",
        "# of map.\n",
        "\n",
        "# Return double of n and adds 3\n",
        "def addition(n):\n",
        "\treturn 2*n+3\n",
        "\n",
        "# We double all numbers using map()\n",
        "numbers = (1, 2, 3, 4)\n",
        "result = map(addition, numbers)\n",
        "print(f\" type of results is {type(result)}\")\n",
        "print(list(result))\n",
        "# Double all numbers using map and lambda\n",
        "  \n",
        "numbers = (1, 2, 3, 4)\n",
        "result = map(lambda x: 2*x + 3, numbers)\n",
        "print(list(result))"
      ],
      "metadata": {
        "colab": {
          "base_uri": "https://localhost:8080/"
        },
        "id": "gdGFXqiIN3Iy",
        "outputId": "f58093a5-c890-4a85-f0a8-8a6d187b9e1a"
      },
      "execution_count": 13,
      "outputs": [
        {
          "output_type": "stream",
          "name": "stdout",
          "text": [
            " type of results is <class 'map'>\n",
            "[5, 7, 9, 11]\n",
            "[5, 7, 9, 11]\n"
          ]
        }
      ]
    }
  ]
}